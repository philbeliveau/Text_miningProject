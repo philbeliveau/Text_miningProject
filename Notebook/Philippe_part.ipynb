{
 "cells": [
  {
   "attachments": {},
   "cell_type": "markdown",
   "metadata": {},
   "source": [
    "# Cyberbullying Classification"
   ]
  },
  {
   "attachments": {},
   "cell_type": "markdown",
   "metadata": {},
   "source": [
    "### 1. The degree of aggressivity & Negativity\n",
    "\n",
    "### 2. Personnalization\n",
    "    - Depency tree, establish the subject, object, complement, aux\n",
    "    - Also, tell the (person 1st, 2nd, 3rd) of the subject and the object. \n",
    "    - Identify what are they accuse from \n",
    "    - Identify who’s being targeted (Lexicon or wordnet)\n",
    "    - Established if the aux is directed to the object  (Establishing intention)\n",
    "### 3. Harms inflicted and to who\n",
    "    - Now, using the complement (output of dependency tree), we can map these to threats\n",
    "    - We need wordnet to identify threat. (Actually better lexicon than word net)\n",
    "    - To object refers to what category? race, nationality, religion, color, gender, \n",
    "\n"
   ]
  },
  {
   "attachments": {},
   "cell_type": "markdown",
   "metadata": {},
   "source": [
    "Set your environment\n",
    "- source spacy/bin/activate (Bash)\n",
    "- get back to your base: deactivate (Bash)\n",
    "\n",
    "You have to be in anaconda3 interpreter"
   ]
  },
  {
   "attachments": {},
   "cell_type": "markdown",
   "metadata": {},
   "source": [
    "# Import data"
   ]
  },
  {
   "cell_type": "code",
   "execution_count": 1,
   "metadata": {},
   "outputs": [],
   "source": [
    "import numpy as np\n",
    "import pandas as pd \n",
    "import os\n",
    "from sklearn.experimental import enable_halving_search_cv\n",
    "from sklearn.model_selection import HalvingGridSearchCV\n",
    "from sklearn.metrics import classification_report,confusion_matrix\n",
    "import re\n",
    "import string\n",
    "from nltk.corpus import stopwords\n",
    "from nltk.stem.snowball import SnowballStemmer\n",
    "from nltk.corpus import stopwords\n",
    "from nltk.corpus import wordnet\n",
    "from spacy import displacy\n",
    "from vaderSentiment.vaderSentiment import SentimentIntensityAnalyzer\n",
    "\n",
    "import spacy\n",
    "import nltk\n",
    "nlp = spacy.load(\"en_core_web_sm\")\n",
    "import en_core_web_sm\n",
    "nlp = en_core_web_sm.load()\n"
   ]
  },
  {
   "cell_type": "code",
   "execution_count": 33,
   "metadata": {},
   "outputs": [],
   "source": [
    "macbook = ('/Users/philippebeliveau/Desktop/Notebook/Winter_2024/Text_mining/Git_MiningRepository/Text_miningProject/Notebook/cyberbullying_tweets.csv')\n",
    "\n",
    "mac_mini = ('/Users/philippebeliveau/Desktop/Notebook_Jupyter_R/Winter_2024/Text_mining/Project/Text_miningProject/Notebook/cyberbullying_tweets.csv')\n",
    "\n",
    "df = pd.read_csv(mac_mini)\n",
    "df.head()\n",
    "categories = df['cyberbullying_type'].unique()\n"
   ]
  },
  {
   "cell_type": "code",
   "execution_count": 34,
   "metadata": {},
   "outputs": [],
   "source": [
    "# Initialize an empty dictionary to hold the tweets by category\n",
    "tweets_by_category = {}\n",
    "\n",
    "# Iterate over each category\n",
    "for category in categories:\n",
    "    # Filter the dataset for the current category\n",
    "    category_tweets = df[df['cyberbullying_type'] == category]['tweet_text'].tolist()\n",
    "    \n",
    "    # Add the list of tweets to the dictionary\n",
    "    tweets_by_category[category] = category_tweets\n",
    "\n",
    "category = tweets_by_category['ethnicity'][100:120]"
   ]
  },
  {
   "cell_type": "markdown",
   "metadata": {},
   "source": [
    "# Data preprocessing"
   ]
  },
  {
   "cell_type": "code",
   "execution_count": 43,
   "metadata": {},
   "outputs": [
    {
     "data": {
      "text/plain": [
       "12000"
      ]
     },
     "execution_count": 43,
     "metadata": {},
     "output_type": "execute_result"
    }
   ],
   "source": [
    "# Filter 2000 tweets from each category\n",
    "df = df.groupby('cyberbullying_type').apply(lambda x: x.sample(min(len(x), 2000), random_state=123)).reset_index(drop=True)\n",
    "\n",
    "# Now you can work with 'sampled_df' which contains 2000 samples from each category\n",
    "df.shape[0]"
   ]
  },
  {
   "cell_type": "code",
   "execution_count": 44,
   "metadata": {},
   "outputs": [],
   "source": [
    "import re\n",
    "\n",
    "def clean_text(text):\n",
    "    #removing hastags, links and specific symbol\n",
    "    pattern=re.compile(r\"(#[a-zA-Z0-9]+|@[a-zA-Z0-9]+|https?://\\S+|www\\.\\S+|\\S+\\.[a-z]+|RT @|Ã°ÂÂÂ)\")\n",
    "    text = pattern.sub('', text)\n",
    "    text = \" \".join(text.split())\n",
    "    \n",
    "    return text"
   ]
  },
  {
   "cell_type": "code",
   "execution_count": 45,
   "metadata": {},
   "outputs": [],
   "source": [
    "#cleaning of data\n",
    "df['clean_data']=df['tweet_text'].apply(lambda x: clean_text(x))"
   ]
  },
  {
   "attachments": {},
   "cell_type": "markdown",
   "metadata": {},
   "source": [
    "# Part 2 - Critique vs Insult"
   ]
  },
  {
   "cell_type": "markdown",
   "metadata": {},
   "source": [
    "## Current version"
   ]
  },
  {
   "cell_type": "code",
   "execution_count": 53,
   "metadata": {},
   "outputs": [],
   "source": [
    "# With VADER\n",
    "from nltk.sentiment.util import mark_negation\n",
    "from nltk.corpus import sentiwordnet as swn\n",
    "\n",
    "# Initialize lists to store data\n",
    "analyzer = SentimentIntensityAnalyzer()\n",
    "data = []\n",
    "\n",
    "df_clean = df\n",
    "\n",
    "for tweet in df_clean['clean_data']:\n",
    "    # Analyze the tweet\n",
    "    doc = nlp(tweet)\n",
    "\n",
    "    # Extract adjectives, nouns, subjects and complements/conjunctions/root\n",
    "    adjectives = [token.text for token in doc if token.pos_ == \"ADJ\"]\n",
    "    nouns = [token.text for token in doc if token.pos_ == \"NOUN\"]\n",
    "    subjects = [(token.text, token.morph.get('Person')) for token in doc if token.dep_ == \"nsubj\"]\n",
    "    complements = [token.text for token in doc if token.dep_ in (\"acomp\", \"conj\", \"ROOT\")]\n",
    "\n",
    "    # Extract children of ccomp or conj\n",
    "    dep_children = []\n",
    "    senti_sentiments = []\n",
    "    textToken = []\n",
    "    for token in doc:\n",
    "        if token.dep_ in (\"conj\", 'ROOT', 'ccomp'):\n",
    "            children = [child.text for child in token.children]\n",
    "            dep_children.append(children)\n",
    "            # Compute sentiment scores for each child and append to list\n",
    "            senti_sentiments.extend([analyzer.polarity_scores(child)[\"compound\"] for child in children])\n",
    "        if token.pos_ in (\"AUX\", 'PROPN'): \n",
    "            child = [child.text for child in token.children]\n",
    "            textToken.append(child)\n",
    "        # if token.dep_ in (\"acomp\", 'advmod', 'amod',\"appos\", \"coordination\"): \n",
    "        #     text = token.text\n",
    "        #     textToken.append(text)\n",
    "    # Compute sum of sentiment scores for the children\n",
    "    sum_senti_sentiments = sum(senti_sentiments)\n",
    "\n",
    "    # Extract named entities and their types\n",
    "    named_entities = [(ent.text, ent.label_) for ent in doc.ents]\n",
    "\n",
    "    # Extract synonyms\n",
    "    synonyms = []\n",
    "    for token in doc:\n",
    "        if token.pos_ in (\"ADJ\", \"NOUN\", 'ccomp'):\n",
    "            for syn in wordnet.synsets(token.text):\n",
    "                for lemma in syn.lemmas():\n",
    "                    synonyms.append(lemma.name())\n",
    "\n",
    "    # Create a polarity score\n",
    "    sentiment_score = analyzer.polarity_scores(tweet)[\"compound\"]\n",
    "    synonyms_sentiment_score = analyzer.polarity_scores(\" \".join(synonyms))[\"compound\"]\n",
    "\n",
    "    # Check if \"?\" is in the tweet\n",
    "    has_question_mark = \"?\" in tweet\n",
    "\n",
    "    # Mark negation in the tweet\n",
    "    negated_tweet = \" \".join(mark_negation(tweet.split()))\n",
    "\n",
    "    # Check for discourse markers\n",
    "    discourse_markers = ['say', 'claim']\n",
    "    has_discourse_marker = any(marker in tweet for marker in discourse_markers)\n",
    "\n",
    "    # Check if there is a 3rd person verb in the tweet\n",
    "    has_third_person_verb = any(token.morph.get('Person') == '3' and token.pos_ == 'VERB' for token in doc)\n",
    "\n",
    "    # Get SentiWordNet polarity scores\n",
    "    senti_scores = []\n",
    "    for token in doc:\n",
    "        synsets = list(swn.senti_synsets(token.text))\n",
    "        if synsets:\n",
    "            senti_scores.append(synsets[0].pos_score() - synsets[0].neg_score())\n",
    "\n",
    "    avg_senti_score = sum(senti_scores) / len(senti_scores) if senti_scores else 0\n",
    "\n",
    "    # Append data to list\n",
    "    data.append({\n",
    "        \"Tweet\": tweet,\n",
    "        \"Has Question Mark\": has_question_mark,\n",
    "        \"Negated Tweet\": negated_tweet,\n",
    "        \"Has Discourse Marker\": has_discourse_marker,\n",
    "        \"Tweet\": tweet,\n",
    "        \"Adjectives\": adjectives,\n",
    "        \"Nouns\": nouns,\n",
    "        \"Subjects\": subjects,\n",
    "        \"Complements\": complements,\n",
    "        \"Dependency Children\": dep_children,\n",
    "        \"Dependency Sentiment\": sum_senti_sentiments,\n",
    "        \"Aux/pronouns dependence\": textToken,\n",
    "        \"Named Entities\": named_entities,\n",
    "       # \"Synonyms\": synonyms,\n",
    "        \"Sentiment Score\": sentiment_score,\n",
    "        \"Synonyms Sentiment Score\": synonyms_sentiment_score,  \n",
    "        \"Has Third Person Verb\": has_third_person_verb,\n",
    "        \"Average SentiWordNet Score\": avg_senti_score,\n",
    "    })\n",
    "\n",
    "# Create DataFrame\n",
    "df1 = pd.DataFrame(data)"
   ]
  },
  {
   "cell_type": "code",
   "execution_count": 54,
   "metadata": {},
   "outputs": [],
   "source": [
    "def contains_person(subjects, person):\n",
    "    person_list = [p for _, p_list in subjects for p in p_list]\n",
    "    return str(person) in person_list\n",
    "\n",
    "df1['Has 1st Person'] = df1['Subjects'].apply(lambda x: contains_person(x, 1))\n",
    "df1['Has 2nd Person'] = df1['Subjects'].apply(lambda x: contains_person(x, 2))\n",
    "df1['Has 3rd Person'] = df1['Subjects'].apply(lambda x: contains_person(x, 3))\n",
    "\n",
    "df1['Word Count'] = df1['Tweet'].apply(lambda x: len(x.split()))\n",
    "df1['Adjusted Vader score'] = df1.apply(lambda row: row['Dependency Sentiment'] / len(row['Dependency Children']) if len(row['Dependency Children']) != 0 else 0, axis=1)\n",
    "#df1['Adjusted SentiWordScore'] = df1.apply(lambda row: row['Dependency Sentiment'] / len(row['Tweet']) if len(row['Tweet']) != 0 else 0, axis=1)\n",
    "df1['Has Capital Word'] = df1['Tweet'].apply(lambda x: any(word.isupper() for word in x.split()))\n"
   ]
  },
  {
   "cell_type": "markdown",
   "metadata": {},
   "source": [
    "### Save df"
   ]
  },
  {
   "cell_type": "code",
   "execution_count": 48,
   "metadata": {},
   "outputs": [],
   "source": [
    "# Export csv\n",
    "#df.to_csv('/Users/philippebeliveau/Library/Mobile Documents/com~apple~CloudDocs/_Bureau_/Master/Winter_2024/Text_mining/Project/Dataframe/Version2.csv')"
   ]
  },
  {
   "cell_type": "code",
   "execution_count": 49,
   "metadata": {},
   "outputs": [],
   "source": [
    "# Import csv \n",
    "#df = pd.read_csv('/Users/philippebeliveau/Library/Mobile Documents/com~apple~CloudDocs/_Bureau_/Master/Winter_2024/Text_mining/Project/Dataframe/Version2.csv')"
   ]
  },
  {
   "cell_type": "markdown",
   "metadata": {},
   "source": [
    "# Classification\n",
    "## Rules\n",
    "1. \"Target identification\" -> Identify if there is a target, Does it have a 2nd or 3rd person subject, and or Is the name entities is a PERSON or NORP. If that is true, then increase the threshold required to classify as an insult. \n",
    "2. \"Absence of target\" -> If the Entities are not speaking about a Person or NORP, and have no 2nd and 3rd person subject, then increase the required sentiment score. \n",
    "3. \"Discourse or Insults?\" -> Make a rule regarding Discourse marker. If a tweet shows more of a discourse,the threshold for the sentiment should be very high. Does the tweet as a question mark or a discourse marker such as [\"but\", \"however\", \"on the other hand\", \"yet\", \"nevertheless\", \"although\",\n",
    "                     \"while\", \"even though\", \"despite\", \"regardless\", \"rather\", \"instead\",\n",
    "                     \"meanwhile\", \"in contrast\", \"conversely\", \"compared to\", \"on the contrary\",\n",
    "                     \"besides\", \"furthermore\", \"moreover\", \"in addition\", \"additionally\",\n",
    "                     \"further\", \"also\", \"next\", \"then\", \"afterward\", \"finally\",\n",
    "                     \"therefore\", \"thus\", \"hence\", \"consequently\", \"as a result\", \"so\",\n",
    "                     \"because\", \"since\", \"due to\", \"as long as\", \"provided that\", \"given that\",\n",
    "                     \"for example\", \"for instance\", \"specifically\", \"in particular\", \"to illustrate\",\n",
    "                     \"to clarify\", \"to explain\", \"in summary\", \"to sum up\", \"in conclusion\",\n",
    "                     \"indeed\", \"certainly\", \"obviously\", \"clearly\", \"undoubtedly\", \"surely\"]. \n",
    "4. \"SentiWordScore\" -> If the Adjusted SentiWordScore is smaller then -0.6, then classify it automatically as an Insults\n",
    "5. \"Expressiveness\" -> If the tweets have row['Has Capital Word'] == True, then make the threshold of the sentiment lower. \n",
    "6. \"Degree of Positiveness\" -> If the general tweet is positive, such as row['Sentiment Score'] > 0.3 and row['Synonyms Sentiment Score'] > 0.2, make it more different to be classify as insult and increase the threshold of Adjusted SentiWordScore\n",
    "7. \"Age tweets?\" -> If education_terms = ['school', 'schools', 'college', 'graduation']\n",
    "    if any(term in str(word) for term in education_terms for word in row[['Nouns', 'Tweet']]):\n",
    "        return 'Critique/Other'\n",
    "8. \"Description tweets\" -> Tweets with name entities such as Percent, Quanity, Ordinal etc should have more difficult threshold to be classify as insults. \n",
    "Note, the score here refers to this one: Adjusted SentiWordScore"
   ]
  },
  {
   "cell_type": "code",
   "execution_count": 55,
   "metadata": {},
   "outputs": [],
   "source": [
    "# 8 rules classification \n",
    "def classify(row):\n",
    "    # Rule 1: Threshold for insult\n",
    "    insult_threshold = -0.2  # Define your threshold here\n",
    "\n",
    "    # Rule 2: Absence of target\n",
    "    if not any(entity in ['PERSON', 'NORP'] for entity in row['Named Entities']) and not row['Has 2nd Person'] and not row['Has 3rd Person']:\n",
    "        insult_threshold -= 0.2  # Adjust the threshold as needed\n",
    "\n",
    "    # Rule 3: Discourse or Insults?\n",
    "    discourse_markers = [\"but\", \"however\", \"on the other hand\", \"yet\", \"nevertheless\", \"although\",\n",
    "                         \"while\", \"even though\", \"despite\", \"regardless\", \"rather\", \"instead\",\n",
    "                         \"meanwhile\", \"in contrast\", \"conversely\", \"compared to\", \"on the contrary\",\n",
    "                         \"besides\", \"furthermore\", \"moreover\", \"in addition\", \"additionally\",\n",
    "                         \"further\", \"also\", \"next\", \"then\", \"afterward\", \"finally\",\n",
    "                         \"therefore\", \"thus\", \"hence\", \"consequently\", \"as a result\", \"so\",\n",
    "                         \"because\", \"since\", \"due to\", \"as long as\", \"provided that\", \"given that\",\n",
    "                         \"for example\", \"for instance\", \"specifically\", \"in particular\", \"to illustrate\",\n",
    "                         \"to clarify\", \"to explain\", \"in summary\", \"to sum up\", \"in conclusion\",\n",
    "                         \"indeed\", \"certainly\", \"obviously\", \"clearly\", \"undoubtedly\", \"surely\"]\n",
    "    if any(marker in row['Tweet'] for marker in discourse_markers):\n",
    "        insult_threshold -= 0.4  # Adjust the threshold as needed\n",
    "\n",
    "    # Rule 4: SentiWordScore\n",
    "    if row['Adjusted SentiWordScore'] < insult_threshold:\n",
    "        return 'Insults'\n",
    "\n",
    "    # Rule 5: Expressiveness\n",
    "    if row['Has Capital Word']:\n",
    "        insult_threshold += 0.1  # Adjust the threshold as needed\n",
    "\n",
    "    # Rule 6: Degree of Positiveness\n",
    "    if row['Sentiment Score'] > 0.3 and row['Synonyms Sentiment Score'] > 0.2:\n",
    "        insult_threshold -= 0.2  # Adjust the threshold as needed\n",
    "\n",
    "    # Rule 7: Age tweets?\n",
    "    education_terms = ['school', 'schools', 'college', 'graduation']\n",
    "    if any(term in str(word) for term in education_terms for word in row[['Nouns', 'Tweet']]):\n",
    "        return 'Critique/Other'\n",
    "\n",
    "    # Rule 8: Description tweets\n",
    "    if any(entity in ['PERCENT', 'QUANTITY', 'ORDINAL', 'TIME'] for entity in row['Named Entities']):\n",
    "        insult_threshold -= 0.8  # Adjust the threshold as needed\n",
    "        \n",
    "    # Final classification\n",
    "    if row['Adjusted SentiWordScore'] < insult_threshold:\n",
    "        return 'Insults'\n",
    "    \n",
    "    else:\n",
    "        return 'Critique/Other'\n",
    "\n",
    "df1['Classification'] = df1.apply(classify, axis=1)"
   ]
  },
  {
   "cell_type": "code",
   "execution_count": 56,
   "metadata": {},
   "outputs": [
    {
     "data": {
      "text/plain": [
       "-0.4669424204200452"
      ]
     },
     "execution_count": 56,
     "metadata": {},
     "output_type": "execute_result"
    }
   ],
   "source": [
    "df1.loc[df1['Classification'] == 'Insults', 'Adjusted SentiWordScore'].mean()"
   ]
  },
  {
   "cell_type": "markdown",
   "metadata": {},
   "source": [
    "# Evaluation"
   ]
  },
  {
   "cell_type": "code",
   "execution_count": 57,
   "metadata": {},
   "outputs": [
    {
     "data": {
      "image/png": "[encoded data removed]",
      "text/plain": [
       "<Figure size 500x300 with 1 Axes>"
      ]
     },
     "metadata": {},
     "output_type": "display_data"
    },
    {
     "name": "stdout",
     "output_type": "stream",
     "text": [
      "Critique/Other    10808\n",
      "Insults            1192\n",
      "Name: Classification, dtype: int64\n"
     ]
    }
   ],
   "source": [
    "import matplotlib.pyplot as plt\n",
    "\n",
    "# Get counts\n",
    "classification_counts = df1['Classification'].value_counts()\n",
    "\n",
    "# Create histogram\n",
    "plt.figure(figsize=(5, 3))\n",
    "plt.bar(classification_counts.index, classification_counts.values, color=['blue', 'orange'])\n",
    "plt.xlabel('Classification')\n",
    "plt.ylabel('Number of Tweets')\n",
    "plt.title('Histogram of Tweet Classifications')\n",
    "plt.show()\n",
    "print(classification_counts)"
   ]
  },
  {
   "cell_type": "code",
   "execution_count": 66,
   "metadata": {},
   "outputs": [],
   "source": [
    "import pandas as pd\n",
    "\n",
    "# Set max rows and columns\n",
    "# Set max column width\n",
    "pd.set_option('display.max_colwidth', None)\n",
    "pd.set_option('display.max_columns', None)\n",
    "\n",
    "df_insult = df1[df1['Classification'] == 'Insults']\n",
    "df_critique = df1[df1['Classification'] == 'Critique/Other']\n",
    "df1[['Tweet', 'Classification', 'Adjusted SentiWordScore', 'Subjects','Complements',\"Dependency Children\",\n",
    "           'Aux/pronouns dependence','Has 1st Person', 'Has 2nd Person', 'Has 3rd Person', 'Named Entities', 'Has Discourse Marker', \n",
    "           'Has Question Mark', 'Has Third Person Verb', 'Adjectives']].sample(75, random_state=123)\n",
    "\n",
    "# Per tweet \n",
    "#pd.DataFrame([df1.loc[573, ['Tweet',  'Classification', 'Adjusted SentiWordScore', 'Subjects','Complements',\"Dependency Children\", 'Aux/pronouns dependence','Has 1st Person', 'Has 2nd Person', 'Has 3rd Person', 'Named Entities', 'Has Discourse Marker', 'Has Question Mark', 'Has Third Person Verb', 'Adjectives']]])"
   ]
  },
  {
   "cell_type": "code",
   "execution_count": 68,
   "metadata": {},
   "outputs": [],
   "source": [
    "#df_insult.to_csv('/Users/philippebeliveau/Library/Mobile Documents/com~apple~CloudDocs/_Bureau_/Master/Winter_2024/Text_mining/Project/Dataframe/Insults.csv')\n",
    "#df_final.to_csv('/Users/philippebeliveau/Library/Mobile Documents/com~apple~CloudDocs/_Bureau_/Master/Winter_2024/Text_mining/Project/Dataframe/Final.csv')\n",
    "#df_critique.to_csv('/Users/philippebeliveau/Library/Mobile Documents/com~apple~CloudDocs/_Bureau_/Master/Winter_2024/Text_mining/Project/Dataframe/Critique.csv')"
   ]
  },
  {
   "cell_type": "code",
   "execution_count": null,
   "metadata": {},
   "outputs": [],
   "source": []
  }
 ],
 "metadata": {
  "kernelspec": {
   "display_name": "Python 3",
   "language": "python",
   "name": "python3"
  },
  "language_info": {
   "codemirror_mode": {
    "name": "ipython",
    "version": 3
   },
   "file_extension": ".py",
   "mimetype": "text/x-python",
   "name": "python",
   "nbconvert_exporter": "python",
   "pygments_lexer": "ipython3",
   "version": "3.9.13"
  },
  "orig_nbformat": 4,
  "vscode": {
   "interpreter": {
    "hash": "40d3a090f54c6569ab1632332b64b2c03c39dcf918b08424e98f38b5ae0af88f"
   }
  }
 },
 "nbformat": 4,
 "nbformat_minor": 2
}
